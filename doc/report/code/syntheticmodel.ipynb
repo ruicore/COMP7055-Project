{
 "cells": [
  {
   "cell_type": "code",
   "execution_count": 1,
   "id": "d9a896ac",
   "metadata": {
    "_cell_guid": "b1076dfc-b9ad-4769-8c92-a6c4dae69d19",
    "_uuid": "8f2839f25d086af736a60e9eeb907d3b93b6e0e5",
    "execution": {
     "iopub.execute_input": "2025-03-23T13:19:06.695777Z",
     "iopub.status.busy": "2025-03-23T13:19:06.695498Z",
     "iopub.status.idle": "2025-03-23T13:21:03.103839Z",
     "shell.execute_reply": "2025-03-23T13:21:03.102765Z"
    },
    "papermill": {
     "duration": 116.413535,
     "end_time": "2025-03-23T13:21:03.105521",
     "exception": false,
     "start_time": "2025-03-23T13:19:06.691986",
     "status": "completed"
    },
    "tags": []
   },
   "outputs": [
    {
     "name": "stdout",
     "output_type": "stream",
     "text": [
      "Found existing installation: torch 2.5.1+cu121\r\n",
      "Uninstalling torch-2.5.1+cu121:\r\n",
      "  Successfully uninstalled torch-2.5.1+cu121\r\n",
      "Found existing installation: torchvision 0.20.1+cu121\r\n",
      "Uninstalling torchvision-0.20.1+cu121:\r\n",
      "  Successfully uninstalled torchvision-0.20.1+cu121\r\n",
      "Found existing installation: torchaudio 2.5.1+cu121\r\n",
      "Uninstalling torchaudio-2.5.1+cu121:\r\n",
      "  Successfully uninstalled torchaudio-2.5.1+cu121\r\n",
      "Looking in links: https://download.pytorch.org/whl/torch_stable.html\r\n",
      "Collecting torch==1.13.1+cu117\r\n",
      "  Downloading https://download.pytorch.org/whl/cu117/torch-1.13.1%2Bcu117-cp310-cp310-linux_x86_64.whl (1801.8 MB)\r\n",
      "\u001b[2K     \u001b[90m━━━━━━━━━━━━━━━━━━━━━━━━━━━━━━━━━━━━━━━━\u001b[0m \u001b[32m1.8/1.8 GB\u001b[0m \u001b[31m626.7 kB/s\u001b[0m eta \u001b[36m0:00:00\u001b[0m\r\n",
      "\u001b[?25hCollecting torchvision==0.14.1+cu117\r\n",
      "  Downloading https://download.pytorch.org/whl/cu117/torchvision-0.14.1%2Bcu117-cp310-cp310-linux_x86_64.whl (24.3 MB)\r\n",
      "\u001b[2K     \u001b[90m━━━━━━━━━━━━━━━━━━━━━━━━━━━━━━━━━━━━━━━━\u001b[0m \u001b[32m24.3/24.3 MB\u001b[0m \u001b[31m56.3 MB/s\u001b[0m eta \u001b[36m0:00:00\u001b[0m\r\n",
      "\u001b[?25hRequirement already satisfied: typing-extensions in /usr/local/lib/python3.10/dist-packages (from torch==1.13.1+cu117) (4.12.2)\r\n",
      "Requirement already satisfied: numpy in /usr/local/lib/python3.10/dist-packages (from torchvision==0.14.1+cu117) (1.26.4)\r\n",
      "Requirement already satisfied: requests in /usr/local/lib/python3.10/dist-packages (from torchvision==0.14.1+cu117) (2.32.3)\r\n",
      "Requirement already satisfied: pillow!=8.3.*,>=5.3.0 in /usr/local/lib/python3.10/dist-packages (from torchvision==0.14.1+cu117) (11.0.0)\r\n",
      "Requirement already satisfied: mkl_fft in /usr/local/lib/python3.10/dist-packages (from numpy->torchvision==0.14.1+cu117) (1.3.8)\r\n",
      "Requirement already satisfied: mkl_random in /usr/local/lib/python3.10/dist-packages (from numpy->torchvision==0.14.1+cu117) (1.2.4)\r\n",
      "Requirement already satisfied: mkl_umath in /usr/local/lib/python3.10/dist-packages (from numpy->torchvision==0.14.1+cu117) (0.1.1)\r\n",
      "Requirement already satisfied: mkl in /usr/local/lib/python3.10/dist-packages (from numpy->torchvision==0.14.1+cu117) (2025.0.1)\r\n",
      "Requirement already satisfied: tbb4py in /usr/local/lib/python3.10/dist-packages (from numpy->torchvision==0.14.1+cu117) (2022.0.0)\r\n",
      "Requirement already satisfied: mkl-service in /usr/local/lib/python3.10/dist-packages (from numpy->torchvision==0.14.1+cu117) (2.4.1)\r\n",
      "Requirement already satisfied: charset-normalizer<4,>=2 in /usr/local/lib/python3.10/dist-packages (from requests->torchvision==0.14.1+cu117) (3.4.1)\r\n",
      "Requirement already satisfied: idna<4,>=2.5 in /usr/local/lib/python3.10/dist-packages (from requests->torchvision==0.14.1+cu117) (3.10)\r\n",
      "Requirement already satisfied: urllib3<3,>=1.21.1 in /usr/local/lib/python3.10/dist-packages (from requests->torchvision==0.14.1+cu117) (2.3.0)\r\n",
      "Requirement already satisfied: certifi>=2017.4.17 in /usr/local/lib/python3.10/dist-packages (from requests->torchvision==0.14.1+cu117) (2025.1.31)\r\n",
      "Requirement already satisfied: intel-openmp>=2024 in /usr/local/lib/python3.10/dist-packages (from mkl->numpy->torchvision==0.14.1+cu117) (2024.2.0)\r\n",
      "Requirement already satisfied: tbb==2022.* in /usr/local/lib/python3.10/dist-packages (from mkl->numpy->torchvision==0.14.1+cu117) (2022.0.0)\r\n",
      "Requirement already satisfied: tcmlib==1.* in /usr/local/lib/python3.10/dist-packages (from tbb==2022.*->mkl->numpy->torchvision==0.14.1+cu117) (1.2.0)\r\n",
      "Requirement already satisfied: intel-cmplr-lib-rt in /usr/local/lib/python3.10/dist-packages (from mkl_umath->numpy->torchvision==0.14.1+cu117) (2024.2.0)\r\n",
      "Requirement already satisfied: intel-cmplr-lib-ur==2024.2.0 in /usr/local/lib/python3.10/dist-packages (from intel-openmp>=2024->mkl->numpy->torchvision==0.14.1+cu117) (2024.2.0)\r\n",
      "Installing collected packages: torch, torchvision\r\n",
      "\u001b[31mERROR: pip's dependency resolver does not currently take into account all the packages that are installed. This behaviour is the source of the following dependency conflicts.\r\n",
      "pytorch-lightning 2.5.0.post0 requires torch>=2.1.0, but you have torch 1.13.1+cu117 which is incompatible.\r\n",
      "torchmetrics 1.6.1 requires torch>=2.0.0, but you have torch 1.13.1+cu117 which is incompatible.\u001b[0m\u001b[31m\r\n",
      "\u001b[0mSuccessfully installed torch-1.13.1+cu117 torchvision-0.14.1+cu117\r\n",
      "Requirement already satisfied: click in /usr/local/lib/python3.10/dist-packages (8.1.7)\r\n",
      "Requirement already satisfied: requests in /usr/local/lib/python3.10/dist-packages (2.32.3)\r\n",
      "Requirement already satisfied: tqdm in /usr/local/lib/python3.10/dist-packages (4.67.1)\r\n",
      "Collecting pyspng\r\n",
      "  Downloading pyspng-0.1.2-cp310-cp310-manylinux_2_17_x86_64.manylinux2014_x86_64.whl.metadata (1.8 kB)\r\n",
      "Requirement already satisfied: ninja in /usr/local/lib/python3.10/dist-packages (1.11.1.3)\r\n",
      "Collecting imageio-ffmpeg==0.4.3\r\n",
      "  Downloading imageio_ffmpeg-0.4.3-py3-none-manylinux2010_x86_64.whl.metadata (1.6 kB)\r\n",
      "Requirement already satisfied: charset-normalizer<4,>=2 in /usr/local/lib/python3.10/dist-packages (from requests) (3.4.1)\r\n",
      "Requirement already satisfied: idna<4,>=2.5 in /usr/local/lib/python3.10/dist-packages (from requests) (3.10)\r\n",
      "Requirement already satisfied: urllib3<3,>=1.21.1 in /usr/local/lib/python3.10/dist-packages (from requests) (2.3.0)\r\n",
      "Requirement already satisfied: certifi>=2017.4.17 in /usr/local/lib/python3.10/dist-packages (from requests) (2025.1.31)\r\n",
      "Requirement already satisfied: numpy in /usr/local/lib/python3.10/dist-packages (from pyspng) (1.26.4)\r\n",
      "Requirement already satisfied: mkl_fft in /usr/local/lib/python3.10/dist-packages (from numpy->pyspng) (1.3.8)\r\n",
      "Requirement already satisfied: mkl_random in /usr/local/lib/python3.10/dist-packages (from numpy->pyspng) (1.2.4)\r\n",
      "Requirement already satisfied: mkl_umath in /usr/local/lib/python3.10/dist-packages (from numpy->pyspng) (0.1.1)\r\n",
      "Requirement already satisfied: mkl in /usr/local/lib/python3.10/dist-packages (from numpy->pyspng) (2025.0.1)\r\n",
      "Requirement already satisfied: tbb4py in /usr/local/lib/python3.10/dist-packages (from numpy->pyspng) (2022.0.0)\r\n",
      "Requirement already satisfied: mkl-service in /usr/local/lib/python3.10/dist-packages (from numpy->pyspng) (2.4.1)\r\n",
      "Requirement already satisfied: intel-openmp>=2024 in /usr/local/lib/python3.10/dist-packages (from mkl->numpy->pyspng) (2024.2.0)\r\n",
      "Requirement already satisfied: tbb==2022.* in /usr/local/lib/python3.10/dist-packages (from mkl->numpy->pyspng) (2022.0.0)\r\n",
      "Requirement already satisfied: tcmlib==1.* in /usr/local/lib/python3.10/dist-packages (from tbb==2022.*->mkl->numpy->pyspng) (1.2.0)\r\n",
      "Requirement already satisfied: intel-cmplr-lib-rt in /usr/local/lib/python3.10/dist-packages (from mkl_umath->numpy->pyspng) (2024.2.0)\r\n",
      "Requirement already satisfied: intel-cmplr-lib-ur==2024.2.0 in /usr/local/lib/python3.10/dist-packages (from intel-openmp>=2024->mkl->numpy->pyspng) (2024.2.0)\r\n",
      "Downloading imageio_ffmpeg-0.4.3-py3-none-manylinux2010_x86_64.whl (26.9 MB)\r\n",
      "\u001b[2K   \u001b[90m━━━━━━━━━━━━━━━━━━━━━━━━━━━━━━━━━━━━━━━━\u001b[0m \u001b[32m26.9/26.9 MB\u001b[0m \u001b[31m56.6 MB/s\u001b[0m eta \u001b[36m0:00:00\u001b[0m\r\n",
      "\u001b[?25hDownloading pyspng-0.1.2-cp310-cp310-manylinux_2_17_x86_64.manylinux2014_x86_64.whl (192 kB)\r\n",
      "\u001b[2K   \u001b[90m━━━━━━━━━━━━━━━━━━━━━━━━━━━━━━━━━━━━━━━━\u001b[0m \u001b[32m192.5/192.5 kB\u001b[0m \u001b[31m16.1 MB/s\u001b[0m eta \u001b[36m0:00:00\u001b[0m\r\n",
      "\u001b[?25hInstalling collected packages: imageio-ffmpeg, pyspng\r\n",
      "  Attempting uninstall: imageio-ffmpeg\r\n",
      "    Found existing installation: imageio-ffmpeg 0.5.1\r\n",
      "    Uninstalling imageio-ffmpeg-0.5.1:\r\n",
      "      Successfully uninstalled imageio-ffmpeg-0.5.1\r\n",
      "Successfully installed imageio-ffmpeg-0.4.3 pyspng-0.1.2\r\n"
     ]
    }
   ],
   "source": [
    "!pip uninstall -y torch torchvision torchaudio\n",
    "!pip install torch==1.13.1+cu117 torchvision==0.14.1+cu117 -f https://download.pytorch.org/whl/torch_stable.html\n",
    "!pip install click requests tqdm pyspng ninja imageio-ffmpeg==0.4.3"
   ]
  },
  {
   "cell_type": "code",
   "execution_count": 2,
   "id": "153399db",
   "metadata": {
    "execution": {
     "iopub.execute_input": "2025-03-23T13:21:03.163620Z",
     "iopub.status.busy": "2025-03-23T13:21:03.163255Z",
     "iopub.status.idle": "2025-03-23T13:21:03.956902Z",
     "shell.execute_reply": "2025-03-23T13:21:03.955986Z"
    },
    "papermill": {
     "duration": 0.823631,
     "end_time": "2025-03-23T13:21:03.958626",
     "exception": false,
     "start_time": "2025-03-23T13:21:03.134995",
     "status": "completed"
    },
    "tags": []
   },
   "outputs": [
    {
     "name": "stdout",
     "output_type": "stream",
     "text": [
      "Cloning into 'stylegan2-ada-pytorch'...\r\n",
      "remote: Enumerating objects: 131, done.\u001b[K\r\n",
      "remote: Counting objects: 100% (2/2), done.\u001b[K\r\n",
      "remote: Compressing objects: 100% (2/2), done.\u001b[K\r\n",
      "remote: Total 131 (delta 0), reused 0 (delta 0), pack-reused 129 (from 2)\u001b[K\r\n",
      "Receiving objects: 100% (131/131), 1.13 MiB | 8.21 MiB/s, done.\r\n",
      "Resolving deltas: 100% (57/57), done.\r\n"
     ]
    }
   ],
   "source": [
    "!git clone https://github.com/NVlabs/stylegan2-ada-pytorch.git"
   ]
  },
  {
   "cell_type": "code",
   "execution_count": 3,
   "id": "1d956b00",
   "metadata": {
    "execution": {
     "iopub.execute_input": "2025-03-23T13:21:04.018357Z",
     "iopub.status.busy": "2025-03-23T13:21:04.018035Z",
     "iopub.status.idle": "2025-03-23T13:21:04.024465Z",
     "shell.execute_reply": "2025-03-23T13:21:04.023529Z"
    },
    "papermill": {
     "duration": 0.036696,
     "end_time": "2025-03-23T13:21:04.025652",
     "exception": false,
     "start_time": "2025-03-23T13:21:03.988956",
     "status": "completed"
    },
    "tags": []
   },
   "outputs": [
    {
     "name": "stdout",
     "output_type": "stream",
     "text": [
      "/kaggle/working/stylegan2-ada-pytorch\n"
     ]
    }
   ],
   "source": [
    "%cd stylegan2-ada-pytorch"
   ]
  },
  {
   "cell_type": "code",
   "execution_count": 4,
   "id": "329bf2fb",
   "metadata": {
    "execution": {
     "iopub.execute_input": "2025-03-23T13:21:04.084026Z",
     "iopub.status.busy": "2025-03-23T13:21:04.083671Z",
     "iopub.status.idle": "2025-03-23T13:21:06.346792Z",
     "shell.execute_reply": "2025-03-23T13:21:06.345832Z"
    },
    "papermill": {
     "duration": 2.294269,
     "end_time": "2025-03-23T13:21:06.348622",
     "exception": false,
     "start_time": "2025-03-23T13:21:04.054353",
     "status": "completed"
    },
    "tags": []
   },
   "outputs": [],
   "source": [
    "import os\n",
    "import pandas as pd\n",
    "from PIL import Image\n",
    "import numpy as np\n",
    "import json\n",
    "from torchvision import transforms\n",
    "\n",
    "import warnings\n",
    "warnings.filterwarnings(\"ignore\", category=UserWarning)"
   ]
  },
  {
   "cell_type": "code",
   "execution_count": 5,
   "id": "ec19cae8",
   "metadata": {
    "execution": {
     "iopub.execute_input": "2025-03-23T13:21:06.410549Z",
     "iopub.status.busy": "2025-03-23T13:21:06.410046Z",
     "iopub.status.idle": "2025-03-23T13:21:53.188841Z",
     "shell.execute_reply": "2025-03-23T13:21:53.187860Z"
    },
    "papermill": {
     "duration": 46.839667,
     "end_time": "2025-03-23T13:21:53.219101",
     "exception": false,
     "start_time": "2025-03-23T13:21:06.379434",
     "status": "completed"
    },
    "tags": []
   },
   "outputs": [
    {
     "name": "stdout",
     "output_type": "stream",
     "text": [
      "Prepared data (64x64) in data/fer2013_images_64\n"
     ]
    }
   ],
   "source": [
    "def prepare_fer2013_with_json(csv_file, output_dir):\n",
    "    df = pd.read_csv(csv_file)\n",
    "    df = df[df['Usage'] == 'Training']\n",
    "    os.makedirs(output_dir, exist_ok=True)\n",
    "    resize_transform = transforms.Compose([transforms.ToPILImage(), transforms.Resize((64, 64)), transforms.ToTensor()])\n",
    "    image_data = {}\n",
    "    for i, row in df.iterrows():\n",
    "        label = row['emotion']\n",
    "        pixels = row['pixels']\n",
    "        img = np.array([int(p) for p in pixels.split()], dtype=np.uint8).reshape(48, 48)\n",
    "        img = resize_transform(img)\n",
    "        img = (img * 255).numpy().astype(np.uint8).squeeze(0)\n",
    "        img_filename = f\"{i:05d}.png\"\n",
    "        img_path = os.path.join(output_dir, img_filename)\n",
    "        Image.fromarray(img).save(img_path)\n",
    "        image_data[img_filename] = int(label)\n",
    "    dataset_json = {'labels': [[fname, [label]] for fname, label in image_data.items()]}\n",
    "    with open(os.path.join(output_dir, 'dataset.json'), 'w') as f:\n",
    "        json.dump(dataset_json, f)\n",
    "    print(f\"Prepared data (64x64) in {output_dir}\")\n",
    "\n",
    "prepare_fer2013_with_json(\"/kaggle/input/fer2013comp/fer2013.csv\", \"data/fer2013_images_64\")"
   ]
  },
  {
   "cell_type": "code",
   "execution_count": 6,
   "id": "f238277c",
   "metadata": {
    "execution": {
     "iopub.execute_input": "2025-03-23T13:21:53.278850Z",
     "iopub.status.busy": "2025-03-23T13:21:53.278503Z",
     "iopub.status.idle": "2025-03-23T13:23:34.795759Z",
     "shell.execute_reply": "2025-03-23T13:23:34.794491Z"
    },
    "papermill": {
     "duration": 101.549566,
     "end_time": "2025-03-23T13:23:34.797687",
     "exception": false,
     "start_time": "2025-03-23T13:21:53.248121",
     "status": "completed"
    },
    "tags": []
   },
   "outputs": [],
   "source": [
    "!python train.py \\\n",
    "  --outdir=/kaggle/working/training-runs \\\n",
    "  --data=data/fer2013_images_64 \\\n",
    "  --gpus=2 \\\n",
    "  --cfg=auto \\\n",
    "  --gamma=1 \\\n",
    "  --mirror=1 \\\n",
    "  --metrics=fid50k_full,is50k,pr50k3_full \\\n",
    "  --kimg=10000 \\\n",
    "  --workers=4 \\\n",
    "  --cond=1 \\\n",
    "  --snap=50 \\\n",
    "  --aug=fixed \\\n",
    "  --p=0.5 \\\n",
    "  > training_log10.txt 2>&1"
   ]
  },
  {
   "cell_type": "code",
   "execution_count": 7,
   "id": "0df023ac",
   "metadata": {
    "execution": {
     "iopub.execute_input": "2025-03-23T13:23:34.860164Z",
     "iopub.status.busy": "2025-03-23T13:23:34.859762Z",
     "iopub.status.idle": "2025-03-23T13:23:34.863758Z",
     "shell.execute_reply": "2025-03-23T13:23:34.862848Z"
    },
    "papermill": {
     "duration": 0.036635,
     "end_time": "2025-03-23T13:23:34.865196",
     "exception": false,
     "start_time": "2025-03-23T13:23:34.828561",
     "status": "completed"
    },
    "tags": []
   },
   "outputs": [],
   "source": [
    "# !python train.py \\\n",
    "#   --outdir=/kaggle/working/training-runs \\\n",
    "#   --data=data/fer2013_images_64 \\\n",
    "#   --gpus=2 \\\n",
    "#   --cfg=auto \\\n",
    "#   --gamma=1 \\\n",
    "#   --mirror=1 \\\n",
    "#   --metrics=fid50k_full,is50k,pr50k3_full \\\n",
    "#   --kimg=10000 \\\n",
    "#   --workers=4 \\\n",
    "#   --cond=1 \\\n",
    "#   --snap=50 \\\n",
    "#   --aug=noaug \\\n",
    "#   --resume=/kaggle/input/stylegan2016x64/pytorch/default/1/network-snapshot-002016.pkl \\\n",
    "#   > training_log_64_optimized.txt 2>&1"
   ]
  },
  {
   "cell_type": "code",
   "execution_count": null,
   "id": "7573f82c",
   "metadata": {
    "papermill": {
     "duration": 0.031681,
     "end_time": "2025-03-23T13:23:34.928302",
     "exception": false,
     "start_time": "2025-03-23T13:23:34.896621",
     "status": "completed"
    },
    "tags": []
   },
   "outputs": [],
   "source": []
  }
 ],
 "metadata": {
  "kaggle": {
   "accelerator": "nvidiaTeslaT4",
   "dataSources": [
    {
     "datasetId": 6857363,
     "sourceId": 11013802,
     "sourceType": "datasetVersion"
    },
    {
     "modelId": 270142,
     "modelInstanceId": 248616,
     "sourceId": 290216,
     "sourceType": "modelInstanceVersion"
    }
   ],
   "isGpuEnabled": true,
   "isInternetEnabled": true,
   "language": "python",
   "sourceType": "notebook"
  },
  "kernelspec": {
   "display_name": "Python 3",
   "language": "python",
   "name": "python3"
  },
  "language_info": {
   "codemirror_mode": {
    "name": "ipython",
    "version": 3
   },
   "file_extension": ".py",
   "mimetype": "text/x-python",
   "name": "python",
   "nbconvert_exporter": "python",
   "pygments_lexer": "ipython3",
   "version": "3.10.12"
  },
  "papermill": {
   "default_parameters": {},
   "duration": 271.857918,
   "end_time": "2025-03-23T13:23:35.880519",
   "environment_variables": {},
   "exception": null,
   "input_path": "__notebook__.ipynb",
   "output_path": "__notebook__.ipynb",
   "parameters": {},
   "start_time": "2025-03-23T13:19:04.022601",
   "version": "2.6.0"
  }
 },
 "nbformat": 4,
 "nbformat_minor": 5
}
